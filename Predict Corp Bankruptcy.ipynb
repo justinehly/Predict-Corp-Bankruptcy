{
 "cells": [
  {
   "cell_type": "markdown",
   "metadata": {},
   "source": [
    "---\n",
    "# <font color='blue'> Case Study 4 </font>\n",
    "\n",
    "\n",
    "## <font color='blue'>Group</font>\n",
    "* Helene Barrera\n",
    "* Sam Vonpaays Soh\n",
    "* Justin Ehly"
   ]
  },
  {
   "cell_type": "markdown",
   "metadata": {},
   "source": [
    "## <font color='blue'>Business Understanding</font>\n",
    "The objective of this project is to use RandomForest and XGBoost to accurately predict a company's likelihood to go into bankruptcy based on financial information provided in arff file formats. The financial data consists of a set of 64 attributes each one containing data such as net profits by total assets or total assets by total liabilities. Typically a decision maker may be able to pick out a few traditional attributes to guide their gut feeling on a company to invest in or give a loan to. However, the benefit of the two machine learning models in our study is that they can analysis at a wide variety of attributes, many of which are very similar to each other, and determine which ones are empirically the most important, regardless of conventional knowledge. And, if the most important attributes happen to be those that are frequently used anyways, at least there is data backing that up. "
   ]
  },
  {
   "cell_type": "markdown",
   "metadata": {},
   "source": [
    "## <font color='blue'>Data Evaluation/ Engineering</font>\n",
    "Upon reviewing the data, it was clear that it needed some cleaning before putting it in a model. The exploritory data analysis and data preparation will be summarized at the bottom of the section following the code. "
   ]
  },
  {
   "cell_type": "code",
   "execution_count": 1,
   "metadata": {},
   "outputs": [
    {
     "data": {
      "text/plain": [
       "'C:\\\\Users\\\\Helene\\\\Quantifying The World\\\\Case Study 4'"
      ]
     },
     "execution_count": 1,
     "metadata": {},
     "output_type": "execute_result"
    }
   ],
   "source": [
    "from scipy.io import arff\n",
    "import pandas as pd\n",
    "import numpy as np\n",
    "import os\n",
    "import glob\n",
    "\n",
    "\n",
    "os.getcwd()            "
   ]
  },
  {
   "cell_type": "code",
   "execution_count": 2,
   "metadata": {},
   "outputs": [
    {
     "data": {
      "text/plain": [
       "['1year.arff', '2year.arff', '3year.arff', '4year.arff', '5year.arff']"
      ]
     },
     "execution_count": 2,
     "metadata": {},
     "output_type": "execute_result"
    }
   ],
   "source": [
    "#os.chdir(r'C:\\Users\\justi\\Google Drive\\_SMU\\7333 - Quantifying the World\\Case Study 4\\data')\n",
    "\n",
    "os.chdir(r'D:\\\\MS in Data Science\\\\Quantifying\\\\Case Study 4\\\\data')\n",
    "\n",
    "from os import listdir\n",
    "from os.path import isfile, join\n",
    "#dir_files = [f for f in os.listdir(os.getcwd()+'/Case 4_data') if os.path.isfile(join(os.getcwd()+'/Case 4_data', f))]\n",
    "\n",
    "# get list of all arff files\n",
    "dir_files = glob.glob('*.arff')\n",
    "\n",
    "dir_files"
   ]
  },
  {
   "cell_type": "code",
   "execution_count": 3,
   "metadata": {},
   "outputs": [
    {
     "name": "stdout",
     "output_type": "stream",
     "text": [
      "(7027, 65)\n",
      "(10173, 65)\n",
      "(10503, 65)\n",
      "(9792, 65)\n",
      "(5910, 65)\n",
      "43405\n"
     ]
    }
   ],
   "source": [
    "data_dict = {}\n",
    "full_df = pd.DataFrame()\n",
    "\n",
    "records = 0\n",
    "\n",
    "for f in dir_files:\n",
    "    #temp_data = arff.loadarff(os.getcwd()+'/Case 4_data/'+f)\n",
    "    temp_data = arff.loadarff(f)\n",
    "    temp_df = pd.DataFrame(temp_data[0])\n",
    "    print(temp_df.shape)\n",
    "    data_dict.update({f:temp_df})\n",
    "    full_df = pd.concat([full_df, temp_df])\n",
    "    records += temp_df.shape[0]\n",
    "    \n",
    "print(records)"
   ]
  },
  {
   "cell_type": "code",
   "execution_count": 4,
   "metadata": {},
   "outputs": [
    {
     "data": {
      "text/plain": [
       "(43405, 65)"
      ]
     },
     "execution_count": 4,
     "metadata": {},
     "output_type": "execute_result"
    }
   ],
   "source": [
    "full_df.shape"
   ]
  },
  {
   "cell_type": "code",
   "execution_count": 5,
   "metadata": {},
   "outputs": [
    {
     "data": {
      "text/html": [
       "<div>\n",
       "<style scoped>\n",
       "    .dataframe tbody tr th:only-of-type {\n",
       "        vertical-align: middle;\n",
       "    }\n",
       "\n",
       "    .dataframe tbody tr th {\n",
       "        vertical-align: top;\n",
       "    }\n",
       "\n",
       "    .dataframe thead th {\n",
       "        text-align: right;\n",
       "    }\n",
       "</style>\n",
       "<table border=\"1\" class=\"dataframe\">\n",
       "  <thead>\n",
       "    <tr style=\"text-align: right;\">\n",
       "      <th></th>\n",
       "      <th>Attr1</th>\n",
       "      <th>Attr2</th>\n",
       "      <th>Attr3</th>\n",
       "      <th>Attr4</th>\n",
       "      <th>Attr5</th>\n",
       "      <th>Attr6</th>\n",
       "      <th>Attr7</th>\n",
       "      <th>Attr8</th>\n",
       "      <th>Attr9</th>\n",
       "      <th>Attr10</th>\n",
       "      <th>...</th>\n",
       "      <th>Attr56</th>\n",
       "      <th>Attr57</th>\n",
       "      <th>Attr58</th>\n",
       "      <th>Attr59</th>\n",
       "      <th>Attr60</th>\n",
       "      <th>Attr61</th>\n",
       "      <th>Attr62</th>\n",
       "      <th>Attr63</th>\n",
       "      <th>Attr64</th>\n",
       "      <th>class</th>\n",
       "    </tr>\n",
       "  </thead>\n",
       "  <tbody>\n",
       "    <tr>\n",
       "      <th>0</th>\n",
       "      <td>0.200550</td>\n",
       "      <td>0.37951</td>\n",
       "      <td>0.39641</td>\n",
       "      <td>2.0472</td>\n",
       "      <td>32.3510</td>\n",
       "      <td>0.38825</td>\n",
       "      <td>0.249760</td>\n",
       "      <td>1.33050</td>\n",
       "      <td>1.1389</td>\n",
       "      <td>0.50494</td>\n",
       "      <td>...</td>\n",
       "      <td>0.121960</td>\n",
       "      <td>0.39718</td>\n",
       "      <td>0.87804</td>\n",
       "      <td>0.001924</td>\n",
       "      <td>8.4160</td>\n",
       "      <td>5.1372</td>\n",
       "      <td>82.658</td>\n",
       "      <td>4.4158</td>\n",
       "      <td>7.4277</td>\n",
       "      <td>b'0'</td>\n",
       "    </tr>\n",
       "    <tr>\n",
       "      <th>1</th>\n",
       "      <td>0.209120</td>\n",
       "      <td>0.49988</td>\n",
       "      <td>0.47225</td>\n",
       "      <td>1.9447</td>\n",
       "      <td>14.7860</td>\n",
       "      <td>0.00000</td>\n",
       "      <td>0.258340</td>\n",
       "      <td>0.99601</td>\n",
       "      <td>1.6996</td>\n",
       "      <td>0.49788</td>\n",
       "      <td>...</td>\n",
       "      <td>0.121300</td>\n",
       "      <td>0.42002</td>\n",
       "      <td>0.85300</td>\n",
       "      <td>0.000000</td>\n",
       "      <td>4.1486</td>\n",
       "      <td>3.2732</td>\n",
       "      <td>107.350</td>\n",
       "      <td>3.4000</td>\n",
       "      <td>60.9870</td>\n",
       "      <td>b'0'</td>\n",
       "    </tr>\n",
       "    <tr>\n",
       "      <th>2</th>\n",
       "      <td>0.248660</td>\n",
       "      <td>0.69592</td>\n",
       "      <td>0.26713</td>\n",
       "      <td>1.5548</td>\n",
       "      <td>-1.1523</td>\n",
       "      <td>0.00000</td>\n",
       "      <td>0.309060</td>\n",
       "      <td>0.43695</td>\n",
       "      <td>1.3090</td>\n",
       "      <td>0.30408</td>\n",
       "      <td>...</td>\n",
       "      <td>0.241140</td>\n",
       "      <td>0.81774</td>\n",
       "      <td>0.76599</td>\n",
       "      <td>0.694840</td>\n",
       "      <td>4.9909</td>\n",
       "      <td>3.9510</td>\n",
       "      <td>134.270</td>\n",
       "      <td>2.7185</td>\n",
       "      <td>5.2078</td>\n",
       "      <td>b'0'</td>\n",
       "    </tr>\n",
       "    <tr>\n",
       "      <th>3</th>\n",
       "      <td>0.081483</td>\n",
       "      <td>0.30734</td>\n",
       "      <td>0.45879</td>\n",
       "      <td>2.4928</td>\n",
       "      <td>51.9520</td>\n",
       "      <td>0.14988</td>\n",
       "      <td>0.092704</td>\n",
       "      <td>1.86610</td>\n",
       "      <td>1.0571</td>\n",
       "      <td>0.57353</td>\n",
       "      <td>...</td>\n",
       "      <td>0.054015</td>\n",
       "      <td>0.14207</td>\n",
       "      <td>0.94598</td>\n",
       "      <td>0.000000</td>\n",
       "      <td>4.5746</td>\n",
       "      <td>3.6147</td>\n",
       "      <td>86.435</td>\n",
       "      <td>4.2228</td>\n",
       "      <td>5.5497</td>\n",
       "      <td>b'0'</td>\n",
       "    </tr>\n",
       "    <tr>\n",
       "      <th>4</th>\n",
       "      <td>0.187320</td>\n",
       "      <td>0.61323</td>\n",
       "      <td>0.22960</td>\n",
       "      <td>1.4063</td>\n",
       "      <td>-7.3128</td>\n",
       "      <td>0.18732</td>\n",
       "      <td>0.187320</td>\n",
       "      <td>0.63070</td>\n",
       "      <td>1.1559</td>\n",
       "      <td>0.38677</td>\n",
       "      <td>...</td>\n",
       "      <td>0.134850</td>\n",
       "      <td>0.48431</td>\n",
       "      <td>0.86515</td>\n",
       "      <td>0.124440</td>\n",
       "      <td>6.3985</td>\n",
       "      <td>4.3158</td>\n",
       "      <td>127.210</td>\n",
       "      <td>2.8692</td>\n",
       "      <td>7.8980</td>\n",
       "      <td>b'0'</td>\n",
       "    </tr>\n",
       "  </tbody>\n",
       "</table>\n",
       "<p>5 rows × 65 columns</p>\n",
       "</div>"
      ],
      "text/plain": [
       "      Attr1    Attr2    Attr3   Attr4    Attr5    Attr6     Attr7    Attr8  \\\n",
       "0  0.200550  0.37951  0.39641  2.0472  32.3510  0.38825  0.249760  1.33050   \n",
       "1  0.209120  0.49988  0.47225  1.9447  14.7860  0.00000  0.258340  0.99601   \n",
       "2  0.248660  0.69592  0.26713  1.5548  -1.1523  0.00000  0.309060  0.43695   \n",
       "3  0.081483  0.30734  0.45879  2.4928  51.9520  0.14988  0.092704  1.86610   \n",
       "4  0.187320  0.61323  0.22960  1.4063  -7.3128  0.18732  0.187320  0.63070   \n",
       "\n",
       "    Attr9   Attr10  ...    Attr56   Attr57   Attr58    Attr59  Attr60  Attr61  \\\n",
       "0  1.1389  0.50494  ...  0.121960  0.39718  0.87804  0.001924  8.4160  5.1372   \n",
       "1  1.6996  0.49788  ...  0.121300  0.42002  0.85300  0.000000  4.1486  3.2732   \n",
       "2  1.3090  0.30408  ...  0.241140  0.81774  0.76599  0.694840  4.9909  3.9510   \n",
       "3  1.0571  0.57353  ...  0.054015  0.14207  0.94598  0.000000  4.5746  3.6147   \n",
       "4  1.1559  0.38677  ...  0.134850  0.48431  0.86515  0.124440  6.3985  4.3158   \n",
       "\n",
       "    Attr62  Attr63   Attr64  class  \n",
       "0   82.658  4.4158   7.4277   b'0'  \n",
       "1  107.350  3.4000  60.9870   b'0'  \n",
       "2  134.270  2.7185   5.2078   b'0'  \n",
       "3   86.435  4.2228   5.5497   b'0'  \n",
       "4  127.210  2.8692   7.8980   b'0'  \n",
       "\n",
       "[5 rows x 65 columns]"
      ]
     },
     "execution_count": 5,
     "metadata": {},
     "output_type": "execute_result"
    }
   ],
   "source": [
    "full_df.head(5)"
   ]
  },
  {
   "cell_type": "code",
   "execution_count": 6,
   "metadata": {},
   "outputs": [
    {
     "data": {
      "text/html": [
       "<div>\n",
       "<style scoped>\n",
       "    .dataframe tbody tr th:only-of-type {\n",
       "        vertical-align: middle;\n",
       "    }\n",
       "\n",
       "    .dataframe tbody tr th {\n",
       "        vertical-align: top;\n",
       "    }\n",
       "\n",
       "    .dataframe thead th {\n",
       "        text-align: right;\n",
       "    }\n",
       "</style>\n",
       "<table border=\"1\" class=\"dataframe\">\n",
       "  <thead>\n",
       "    <tr style=\"text-align: right;\">\n",
       "      <th></th>\n",
       "      <th>Attr1</th>\n",
       "      <th>Attr2</th>\n",
       "      <th>Attr3</th>\n",
       "      <th>Attr4</th>\n",
       "      <th>Attr5</th>\n",
       "      <th>Attr6</th>\n",
       "      <th>Attr7</th>\n",
       "      <th>Attr8</th>\n",
       "      <th>Attr9</th>\n",
       "      <th>Attr10</th>\n",
       "      <th>...</th>\n",
       "      <th>Attr55</th>\n",
       "      <th>Attr56</th>\n",
       "      <th>Attr57</th>\n",
       "      <th>Attr58</th>\n",
       "      <th>Attr59</th>\n",
       "      <th>Attr60</th>\n",
       "      <th>Attr61</th>\n",
       "      <th>Attr62</th>\n",
       "      <th>Attr63</th>\n",
       "      <th>Attr64</th>\n",
       "    </tr>\n",
       "  </thead>\n",
       "  <tbody>\n",
       "    <tr>\n",
       "      <th>count</th>\n",
       "      <td>43397.000000</td>\n",
       "      <td>43397.000000</td>\n",
       "      <td>43397.000000</td>\n",
       "      <td>43271.000000</td>\n",
       "      <td>4.331600e+04</td>\n",
       "      <td>43397.000000</td>\n",
       "      <td>43397.000000</td>\n",
       "      <td>43311.000000</td>\n",
       "      <td>43396.000000</td>\n",
       "      <td>43397.000000</td>\n",
       "      <td>...</td>\n",
       "      <td>4.340400e+04</td>\n",
       "      <td>4.327800e+04</td>\n",
       "      <td>43398.000000</td>\n",
       "      <td>4.332100e+04</td>\n",
       "      <td>43398.000000</td>\n",
       "      <td>4.125300e+04</td>\n",
       "      <td>43303.000000</td>\n",
       "      <td>4.327800e+04</td>\n",
       "      <td>43271.000000</td>\n",
       "      <td>42593.000000</td>\n",
       "    </tr>\n",
       "    <tr>\n",
       "      <th>mean</th>\n",
       "      <td>0.035160</td>\n",
       "      <td>0.590212</td>\n",
       "      <td>0.114431</td>\n",
       "      <td>6.314702</td>\n",
       "      <td>-3.853466e+02</td>\n",
       "      <td>-0.056107</td>\n",
       "      <td>0.093478</td>\n",
       "      <td>12.640779</td>\n",
       "      <td>2.652166</td>\n",
       "      <td>0.626868</td>\n",
       "      <td>...</td>\n",
       "      <td>7.672188e+03</td>\n",
       "      <td>-2.621959e+01</td>\n",
       "      <td>-0.010510</td>\n",
       "      <td>3.002644e+01</td>\n",
       "      <td>1.333288</td>\n",
       "      <td>4.480858e+02</td>\n",
       "      <td>17.033202</td>\n",
       "      <td>1.502328e+03</td>\n",
       "      <td>9.343074</td>\n",
       "      <td>72.788592</td>\n",
       "    </tr>\n",
       "    <tr>\n",
       "      <th>std</th>\n",
       "      <td>2.994109</td>\n",
       "      <td>5.842748</td>\n",
       "      <td>5.439429</td>\n",
       "      <td>295.434425</td>\n",
       "      <td>6.124303e+04</td>\n",
       "      <td>7.201326</td>\n",
       "      <td>5.713075</td>\n",
       "      <td>505.894281</td>\n",
       "      <td>62.932732</td>\n",
       "      <td>14.670597</td>\n",
       "      <td>...</td>\n",
       "      <td>7.005310e+04</td>\n",
       "      <td>5.327862e+03</td>\n",
       "      <td>13.674072</td>\n",
       "      <td>5.334454e+03</td>\n",
       "      <td>122.104445</td>\n",
       "      <td>3.234560e+04</td>\n",
       "      <td>553.049406</td>\n",
       "      <td>1.392667e+05</td>\n",
       "      <td>124.177354</td>\n",
       "      <td>2369.339482</td>\n",
       "    </tr>\n",
       "    <tr>\n",
       "      <th>min</th>\n",
       "      <td>-463.890000</td>\n",
       "      <td>-430.870000</td>\n",
       "      <td>-479.960000</td>\n",
       "      <td>-0.403110</td>\n",
       "      <td>-1.190300e+07</td>\n",
       "      <td>-508.410000</td>\n",
       "      <td>-517.480000</td>\n",
       "      <td>-141.410000</td>\n",
       "      <td>-3.496000</td>\n",
       "      <td>-479.910000</td>\n",
       "      <td>...</td>\n",
       "      <td>-1.805200e+06</td>\n",
       "      <td>-1.108300e+06</td>\n",
       "      <td>-1667.300000</td>\n",
       "      <td>-1.986900e+02</td>\n",
       "      <td>-327.970000</td>\n",
       "      <td>-1.244000e+01</td>\n",
       "      <td>-12.656000</td>\n",
       "      <td>-2.336500e+06</td>\n",
       "      <td>-1.543200</td>\n",
       "      <td>-10677.000000</td>\n",
       "    </tr>\n",
       "    <tr>\n",
       "      <th>25%</th>\n",
       "      <td>0.003429</td>\n",
       "      <td>0.268980</td>\n",
       "      <td>0.021521</td>\n",
       "      <td>1.049500</td>\n",
       "      <td>-4.908000e+01</td>\n",
       "      <td>0.000000</td>\n",
       "      <td>0.005776</td>\n",
       "      <td>0.430275</td>\n",
       "      <td>1.018500</td>\n",
       "      <td>0.295470</td>\n",
       "      <td>...</td>\n",
       "      <td>2.755425e+01</td>\n",
       "      <td>9.348500e-03</td>\n",
       "      <td>0.014649</td>\n",
       "      <td>8.753200e-01</td>\n",
       "      <td>0.000000</td>\n",
       "      <td>5.545500e+00</td>\n",
       "      <td>4.510150</td>\n",
       "      <td>4.214400e+01</td>\n",
       "      <td>3.097650</td>\n",
       "      <td>2.176800</td>\n",
       "    </tr>\n",
       "    <tr>\n",
       "      <th>50%</th>\n",
       "      <td>0.049660</td>\n",
       "      <td>0.471900</td>\n",
       "      <td>0.196610</td>\n",
       "      <td>1.569800</td>\n",
       "      <td>-1.034500e+00</td>\n",
       "      <td>0.000000</td>\n",
       "      <td>0.059634</td>\n",
       "      <td>1.070400</td>\n",
       "      <td>1.195350</td>\n",
       "      <td>0.505970</td>\n",
       "      <td>...</td>\n",
       "      <td>1.088350e+03</td>\n",
       "      <td>5.294300e-02</td>\n",
       "      <td>0.119670</td>\n",
       "      <td>9.509600e-01</td>\n",
       "      <td>0.006366</td>\n",
       "      <td>9.791700e+00</td>\n",
       "      <td>6.636300</td>\n",
       "      <td>7.132600e+01</td>\n",
       "      <td>5.087600</td>\n",
       "      <td>4.282500</td>\n",
       "    </tr>\n",
       "    <tr>\n",
       "      <th>75%</th>\n",
       "      <td>0.129580</td>\n",
       "      <td>0.688320</td>\n",
       "      <td>0.403390</td>\n",
       "      <td>2.787450</td>\n",
       "      <td>5.063425e+01</td>\n",
       "      <td>0.089446</td>\n",
       "      <td>0.150880</td>\n",
       "      <td>2.615700</td>\n",
       "      <td>2.062500</td>\n",
       "      <td>0.709100</td>\n",
       "      <td>...</td>\n",
       "      <td>4.993325e+03</td>\n",
       "      <td>1.290975e-01</td>\n",
       "      <td>0.284605</td>\n",
       "      <td>9.926400e-01</td>\n",
       "      <td>0.236052</td>\n",
       "      <td>2.018100e+01</td>\n",
       "      <td>10.394500</td>\n",
       "      <td>1.172200e+02</td>\n",
       "      <td>8.598850</td>\n",
       "      <td>9.776200</td>\n",
       "    </tr>\n",
       "    <tr>\n",
       "      <th>max</th>\n",
       "      <td>94.280000</td>\n",
       "      <td>480.960000</td>\n",
       "      <td>28.336000</td>\n",
       "      <td>53433.000000</td>\n",
       "      <td>1.250100e+06</td>\n",
       "      <td>543.250000</td>\n",
       "      <td>649.230000</td>\n",
       "      <td>53432.000000</td>\n",
       "      <td>9742.300000</td>\n",
       "      <td>1099.500000</td>\n",
       "      <td>...</td>\n",
       "      <td>6.123700e+06</td>\n",
       "      <td>2.931500e+02</td>\n",
       "      <td>552.640000</td>\n",
       "      <td>1.108300e+06</td>\n",
       "      <td>23853.000000</td>\n",
       "      <td>4.818700e+06</td>\n",
       "      <td>108000.000000</td>\n",
       "      <td>2.501600e+07</td>\n",
       "      <td>23454.000000</td>\n",
       "      <td>294770.000000</td>\n",
       "    </tr>\n",
       "  </tbody>\n",
       "</table>\n",
       "<p>8 rows × 64 columns</p>\n",
       "</div>"
      ],
      "text/plain": [
       "              Attr1         Attr2         Attr3         Attr4         Attr5  \\\n",
       "count  43397.000000  43397.000000  43397.000000  43271.000000  4.331600e+04   \n",
       "mean       0.035160      0.590212      0.114431      6.314702 -3.853466e+02   \n",
       "std        2.994109      5.842748      5.439429    295.434425  6.124303e+04   \n",
       "min     -463.890000   -430.870000   -479.960000     -0.403110 -1.190300e+07   \n",
       "25%        0.003429      0.268980      0.021521      1.049500 -4.908000e+01   \n",
       "50%        0.049660      0.471900      0.196610      1.569800 -1.034500e+00   \n",
       "75%        0.129580      0.688320      0.403390      2.787450  5.063425e+01   \n",
       "max       94.280000    480.960000     28.336000  53433.000000  1.250100e+06   \n",
       "\n",
       "              Attr6         Attr7         Attr8         Attr9        Attr10  \\\n",
       "count  43397.000000  43397.000000  43311.000000  43396.000000  43397.000000   \n",
       "mean      -0.056107      0.093478     12.640779      2.652166      0.626868   \n",
       "std        7.201326      5.713075    505.894281     62.932732     14.670597   \n",
       "min     -508.410000   -517.480000   -141.410000     -3.496000   -479.910000   \n",
       "25%        0.000000      0.005776      0.430275      1.018500      0.295470   \n",
       "50%        0.000000      0.059634      1.070400      1.195350      0.505970   \n",
       "75%        0.089446      0.150880      2.615700      2.062500      0.709100   \n",
       "max      543.250000    649.230000  53432.000000   9742.300000   1099.500000   \n",
       "\n",
       "       ...        Attr55        Attr56        Attr57        Attr58  \\\n",
       "count  ...  4.340400e+04  4.327800e+04  43398.000000  4.332100e+04   \n",
       "mean   ...  7.672188e+03 -2.621959e+01     -0.010510  3.002644e+01   \n",
       "std    ...  7.005310e+04  5.327862e+03     13.674072  5.334454e+03   \n",
       "min    ... -1.805200e+06 -1.108300e+06  -1667.300000 -1.986900e+02   \n",
       "25%    ...  2.755425e+01  9.348500e-03      0.014649  8.753200e-01   \n",
       "50%    ...  1.088350e+03  5.294300e-02      0.119670  9.509600e-01   \n",
       "75%    ...  4.993325e+03  1.290975e-01      0.284605  9.926400e-01   \n",
       "max    ...  6.123700e+06  2.931500e+02    552.640000  1.108300e+06   \n",
       "\n",
       "             Attr59        Attr60         Attr61        Attr62        Attr63  \\\n",
       "count  43398.000000  4.125300e+04   43303.000000  4.327800e+04  43271.000000   \n",
       "mean       1.333288  4.480858e+02      17.033202  1.502328e+03      9.343074   \n",
       "std      122.104445  3.234560e+04     553.049406  1.392667e+05    124.177354   \n",
       "min     -327.970000 -1.244000e+01     -12.656000 -2.336500e+06     -1.543200   \n",
       "25%        0.000000  5.545500e+00       4.510150  4.214400e+01      3.097650   \n",
       "50%        0.006366  9.791700e+00       6.636300  7.132600e+01      5.087600   \n",
       "75%        0.236052  2.018100e+01      10.394500  1.172200e+02      8.598850   \n",
       "max    23853.000000  4.818700e+06  108000.000000  2.501600e+07  23454.000000   \n",
       "\n",
       "              Attr64  \n",
       "count   42593.000000  \n",
       "mean       72.788592  \n",
       "std      2369.339482  \n",
       "min    -10677.000000  \n",
       "25%         2.176800  \n",
       "50%         4.282500  \n",
       "75%         9.776200  \n",
       "max    294770.000000  \n",
       "\n",
       "[8 rows x 64 columns]"
      ]
     },
     "execution_count": 6,
     "metadata": {},
     "output_type": "execute_result"
    }
   ],
   "source": [
    "full_df.describe()"
   ]
  },
  {
   "cell_type": "markdown",
   "metadata": {},
   "source": [
    "#### First glance at the data\n",
    "\n",
    "There appear to be some missing values and the attributes all have very different scales. Additionally the range of values for some attributes is enormous, while other attributes have very little variation of values. However since we are using decision trees the data will not need to be normalized. "
   ]
  },
  {
   "cell_type": "code",
   "execution_count": 7,
   "metadata": {},
   "outputs": [
    {
     "name": "stdout",
     "output_type": "stream",
     "text": [
      "Attr1 is formatted as a(n) float64 , is missing:  8 values\n",
      "Attr2 is formatted as a(n) float64 , is missing:  8 values\n",
      "Attr3 is formatted as a(n) float64 , is missing:  8 values\n",
      "Attr4 is formatted as a(n) float64 , is missing:  134 values\n",
      "Attr5 is formatted as a(n) float64 , is missing:  89 values\n",
      "Attr6 is formatted as a(n) float64 , is missing:  8 values\n",
      "Attr7 is formatted as a(n) float64 , is missing:  8 values\n",
      "Attr8 is formatted as a(n) float64 , is missing:  94 values\n",
      "Attr9 is formatted as a(n) float64 , is missing:  9 values\n",
      "Attr10 is formatted as a(n) float64 , is missing:  8 values\n",
      "Attr11 is formatted as a(n) float64 , is missing:  44 values\n",
      "Attr12 is formatted as a(n) float64 , is missing:  134 values\n",
      "Attr13 is formatted as a(n) float64 , is missing:  127 values\n",
      "Attr14 is formatted as a(n) float64 , is missing:  8 values\n",
      "Attr15 is formatted as a(n) float64 , is missing:  36 values\n",
      "Attr16 is formatted as a(n) float64 , is missing:  95 values\n",
      "Attr17 is formatted as a(n) float64 , is missing:  94 values\n",
      "Attr18 is formatted as a(n) float64 , is missing:  8 values\n",
      "Attr19 is formatted as a(n) float64 , is missing:  128 values\n",
      "Attr20 is formatted as a(n) float64 , is missing:  127 values\n",
      "Attr21 is formatted as a(n) float64 , is missing:  5854 values\n",
      "Attr22 is formatted as a(n) float64 , is missing:  8 values\n",
      "Attr23 is formatted as a(n) float64 , is missing:  127 values\n",
      "Attr24 is formatted as a(n) float64 , is missing:  922 values\n",
      "Attr25 is formatted as a(n) float64 , is missing:  8 values\n",
      "Attr26 is formatted as a(n) float64 , is missing:  95 values\n",
      "Attr27 is formatted as a(n) float64 , is missing:  2764 values\n",
      "Attr28 is formatted as a(n) float64 , is missing:  812 values\n",
      "Attr29 is formatted as a(n) float64 , is missing:  8 values\n",
      "Attr30 is formatted as a(n) float64 , is missing:  127 values\n",
      "Attr31 is formatted as a(n) float64 , is missing:  127 values\n",
      "Attr32 is formatted as a(n) float64 , is missing:  368 values\n",
      "Attr33 is formatted as a(n) float64 , is missing:  134 values\n",
      "Attr34 is formatted as a(n) float64 , is missing:  94 values\n",
      "Attr35 is formatted as a(n) float64 , is missing:  8 values\n",
      "Attr36 is formatted as a(n) float64 , is missing:  8 values\n",
      "Attr37 is formatted as a(n) float64 , is missing:  18984 values\n",
      "Attr38 is formatted as a(n) float64 , is missing:  8 values\n",
      "Attr39 is formatted as a(n) float64 , is missing:  127 values\n",
      "Attr40 is formatted as a(n) float64 , is missing:  134 values\n",
      "Attr41 is formatted as a(n) float64 , is missing:  754 values\n",
      "Attr42 is formatted as a(n) float64 , is missing:  127 values\n",
      "Attr43 is formatted as a(n) float64 , is missing:  127 values\n",
      "Attr44 is formatted as a(n) float64 , is missing:  127 values\n",
      "Attr45 is formatted as a(n) float64 , is missing:  2147 values\n",
      "Attr46 is formatted as a(n) float64 , is missing:  135 values\n",
      "Attr47 is formatted as a(n) float64 , is missing:  297 values\n",
      "Attr48 is formatted as a(n) float64 , is missing:  9 values\n",
      "Attr49 is formatted as a(n) float64 , is missing:  127 values\n",
      "Attr50 is formatted as a(n) float64 , is missing:  94 values\n",
      "Attr51 is formatted as a(n) float64 , is missing:  8 values\n",
      "Attr52 is formatted as a(n) float64 , is missing:  301 values\n",
      "Attr53 is formatted as a(n) float64 , is missing:  812 values\n",
      "Attr54 is formatted as a(n) float64 , is missing:  812 values\n",
      "Attr55 is formatted as a(n) float64 , is missing:  1 values\n",
      "Attr56 is formatted as a(n) float64 , is missing:  127 values\n",
      "Attr57 is formatted as a(n) float64 , is missing:  7 values\n",
      "Attr58 is formatted as a(n) float64 , is missing:  84 values\n",
      "Attr59 is formatted as a(n) float64 , is missing:  7 values\n",
      "Attr60 is formatted as a(n) float64 , is missing:  2152 values\n",
      "Attr61 is formatted as a(n) float64 , is missing:  102 values\n",
      "Attr62 is formatted as a(n) float64 , is missing:  127 values\n",
      "Attr63 is formatted as a(n) float64 , is missing:  134 values\n",
      "Attr64 is formatted as a(n) float64 , is missing:  812 values\n",
      "class is formatted as a(n) object , is missing:  0 values\n"
     ]
    }
   ],
   "source": [
    "for c in full_df.columns:\n",
    "    print('{} is formatted as a(n) {}'.format(c, full_df[c].dtype),', is missing: ',full_df[c].isna().sum(),'values')"
   ]
  },
  {
   "cell_type": "code",
   "execution_count": null,
   "metadata": {},
   "outputs": [],
   "source": []
  },
  {
   "cell_type": "code",
   "execution_count": 8,
   "metadata": {},
   "outputs": [
    {
     "data": {
      "text/plain": [
       "array([b'0', b'1'], dtype=object)"
      ]
     },
     "execution_count": 8,
     "metadata": {},
     "output_type": "execute_result"
    }
   ],
   "source": [
    "full_df['class'].unique()"
   ]
  },
  {
   "cell_type": "code",
   "execution_count": 9,
   "metadata": {},
   "outputs": [
    {
     "data": {
      "text/plain": [
       "b'0'    41314\n",
       "b'1'     2091\n",
       "Name: class, dtype: int64"
      ]
     },
     "execution_count": 9,
     "metadata": {},
     "output_type": "execute_result"
    }
   ],
   "source": [
    "full_df['class'].value_counts(normalize=False)"
   ]
  },
  {
   "cell_type": "code",
   "execution_count": 10,
   "metadata": {},
   "outputs": [
    {
     "data": {
      "text/plain": [
       "b'0'    0.951826\n",
       "b'1'    0.048174\n",
       "Name: class, dtype: float64"
      ]
     },
     "execution_count": 10,
     "metadata": {},
     "output_type": "execute_result"
    }
   ],
   "source": [
    "full_df['class'].value_counts(normalize=True)"
   ]
  },
  {
   "cell_type": "code",
   "execution_count": 11,
   "metadata": {},
   "outputs": [],
   "source": [
    "classes = []\n",
    "\n",
    "for index, row in full_df.iterrows():\n",
    "    class_val = row['class']\n",
    "    if class_val not in classes:\n",
    "        classes.append(class_val)"
   ]
  },
  {
   "cell_type": "code",
   "execution_count": 12,
   "metadata": {},
   "outputs": [
    {
     "data": {
      "text/plain": [
       "[b'0', b'1']"
      ]
     },
     "execution_count": 12,
     "metadata": {},
     "output_type": "execute_result"
    }
   ],
   "source": [
    "classes"
   ]
  },
  {
   "cell_type": "code",
   "execution_count": 13,
   "metadata": {},
   "outputs": [
    {
     "data": {
      "text/plain": [
       "{b'0': '0', b'1': '1'}"
      ]
     },
     "execution_count": 13,
     "metadata": {},
     "output_type": "execute_result"
    }
   ],
   "source": [
    "class_dict = {}\n",
    "\n",
    "for index, i in enumerate(classes):\n",
    "    class_dict.update({i:str(index)})\n",
    "    \n",
    "class_dict"
   ]
  },
  {
   "cell_type": "code",
   "execution_count": 14,
   "metadata": {},
   "outputs": [],
   "source": [
    "full_df['class'] = full_df['class'].map(class_dict)"
   ]
  },
  {
   "cell_type": "code",
   "execution_count": 15,
   "metadata": {},
   "outputs": [
    {
     "data": {
      "text/plain": [
       "array(['0', '1'], dtype=object)"
      ]
     },
     "execution_count": 15,
     "metadata": {},
     "output_type": "execute_result"
    }
   ],
   "source": [
    "full_df['class'].unique()"
   ]
  },
  {
   "cell_type": "markdown",
   "metadata": {},
   "source": [
    "---\n",
    "### EDA\n",
    "---"
   ]
  },
  {
   "cell_type": "code",
   "execution_count": 16,
   "metadata": {},
   "outputs": [
    {
     "data": {
      "image/png": "[encoded data removed]",
      "text/plain": [
       "<Figure size 1080x1440 with 2 Axes>"
      ]
     },
     "metadata": {
      "needs_background": "light"
     },
     "output_type": "display_data"
    }
   ],
   "source": [
    "# look at correlation plot\n",
    "import seaborn as sns\n",
    "import matplotlib.pyplot as plt\n",
    "corr = full_df.corr()\n",
    "matrix = np.triu(corr)\n",
    "\n",
    "\n",
    "f, ax = plt.subplots(figsize=(15,20))\n",
    "heatmap = sns.heatmap(corr, annot=False, mask=matrix, cmap='BrBG')\n",
    "heatmap.set_title('Correlation Columns', fontdict={'fontsize':18}, pad=16);\n",
    "plt.show()"
   ]
  },
  {
   "cell_type": "markdown",
   "metadata": {},
   "source": [
    "#### Interpretation\n",
    "There are some highly correlated variables showing up in the heatmap... since there are so many, it makes sense to let the software pick out anything that is correlated over 95%. Decision trees are fairly robust to multicollinearity, but having so many variables in the model that essentially say the same thing will arbitrarily weight the model, placing unneeded importance on those variables that have high correlation with many other variables. "
   ]
  },
  {
   "cell_type": "code",
   "execution_count": 17,
   "metadata": {},
   "outputs": [
    {
     "name": "stdout",
     "output_type": "stream",
     "text": [
      "\n",
      " These are the variables that are correlated over 95%: ['Attr14', 'Attr16', 'Attr17', 'Attr18', 'Attr22', 'Attr23', 'Attr26', 'Attr31', 'Attr36', 'Attr38', 'Attr43', 'Attr44', 'Attr46', 'Attr48', 'Attr49', 'Attr50', 'Attr51', 'Attr54', 'Attr56', 'Attr58', 'Attr63']\n",
      "\n",
      "There are a total of 21 variables to drop due to a correlation over 95 percent\n"
     ]
    }
   ],
   "source": [
    "# automating the process of removing highly correlated variables\n",
    "corr_matrix = full_df.corr().abs() #get the correlation matrix with absolute values\n",
    "\n",
    "# select just the upper triangle of the correlation matrix\n",
    "upper_tri = corr_matrix.where(np.triu(np.ones(corr_matrix.shape), k=1).astype(bool)) \n",
    "#print(upper_tri) # view the columns\n",
    "\n",
    "# get columns with over 0.95 (95%) correlation\n",
    "\n",
    "#use list comprehension to get a list of ultra high correlated variables\n",
    "to_drop = [col for col in upper_tri.columns if any(upper_tri[col] > 0.95)] \n",
    "\n",
    "# print list of variables to drop from dataframe\n",
    "print('\\n These are the variables that are correlated over 95%:',to_drop)\n",
    "corrs = len(to_drop)\n",
    "print('\\nThere are a total of %d variables to drop due to a correlation over 95 percent' % corrs)\n",
    "\n"
   ]
  },
  {
   "cell_type": "code",
   "execution_count": 18,
   "metadata": {},
   "outputs": [],
   "source": [
    "# drop the highly correlated columns\n",
    "full_df.drop(columns = to_drop, inplace=True)\n",
    "full_df.columns\n",
    "features = full_df.columns"
   ]
  },
  {
   "cell_type": "code",
   "execution_count": 19,
   "metadata": {},
   "outputs": [
    {
     "data": {
      "text/plain": [
       "(43405, 44)"
      ]
     },
     "execution_count": 19,
     "metadata": {},
     "output_type": "execute_result"
    }
   ],
   "source": [
    "full_df.shape"
   ]
  },
  {
   "cell_type": "markdown",
   "metadata": {},
   "source": [
    "## <font color='blue'>Data Evaluation/ Engineering Summary</font>\n",
    "<b> Summarize the data being used in the case using appropriate mediums (charts, graphs, tables); address questions such as: Are there missing values?</b>    \n",
    "   \n",
    "Since there are missing values in every single line of data, we will utilize a SimpleImputer from Sklearn during data preprocessing to impute missing values in the features that remain in the data set.   \n",
    "    \n",
    "<b> Which variables are needed (which ones are not)?</b>  \n",
    "   \n",
    "We found there were 21 variables that had more than 95% correlation. The following list of variables was removed from the dataset:\n",
    "\n",
    "    - ['Attr14', 'Attr16', 'Attr17', 'Attr18', 'Attr22', 'Attr23', 'Attr26', 'Attr31', 'Attr36', 'Attr38', 'Attr43', 'Attr44', 'Attr46', 'Attr48', 'Attr49', 'Attr50', 'Attr51', 'Attr54', 'Attr56', 'Attr58', 'Attr63']\n",
    "  \n",
    "<b> What assumptions or conclusions are you drawing that need to be relayed to your audience?</b>   \n",
    "\n",
    "There is an unequal class distribution of roughly 95% non-bankrupt to 5% bankrupt. Because of this, the data will need to be balanced for the Random Forest Classifier to appropriately perform where as the XGBoost is designed to work with unbalanced data. Futher, for Random Forest we can adjust the class_weight parameter so that each tree is balanced using \"balance_subsample\" to adjust for the imbalanced class distribution."
   ]
  },
  {
   "cell_type": "markdown",
   "metadata": {},
   "source": [
    "## <font color='blue'>Modeling Preparations</font>\n",
    "   \n",
    "<b>Which methods are you proposing to utilize to solve the problem?</b>    \n",
    "   \n",
    "We will use Random Forest and XGBoost which are both decision tree based algorithms that take different approaches to classifying data so it is a good exercise to compare the 2 side by side. \n",
    "\n",
    "   - Random Forest tends to perform better on balanced and preprocessed data where XGBoost is a better option for unbalanced data. Random Forest works in parallel by sampling the features and the data across a bunch of trees and then makes the final prediction. \n",
    "   - XGBoost is an iterative process that weights iterations with incorrect classification heavier and that ultimately helps it give more weight to the smaller class and less weight to the larger class. \n",
    "\n",
    "<b>Why is this method appropriate given the business objective?</b>\n",
    "\n",
    "Decision trees in general are an excellent approach to this classification problem because they are somewhat interpretable even for a large number of features and they provide a list of important features. For this problem, XGBoost will more than likely be the better performing model over Random Forest since most companies do not go into bankrupcy (meaning the classes are highly imbalanced), \n",
    " \n",
    "   \n",
    "<b> How will you determine if your approach is useful (or how will you differentiate which approach is more useful than another)? More specifically, what evaluation metrics are most useful given that the problem is a binary-classification one </b>\n",
    "\n",
    "Since we don't know whether it's more beneficial to over or under predict companies that could go bankrupt, we will try to tune the models primarily for the maximum accuracy, balanced with precision and recall."
   ]
  },
  {
   "cell_type": "markdown",
   "metadata": {},
   "source": [
    "## <font color='blue'>Model Building & Evaluation</font>\n",
    "- In this case, your primary task is to build both a Random Forest and XGBoost model to accurately predict bankruptcy and will involve the following steps:\n",
    "    - Specify your sampling methodology\n",
    "        - We will use a train/test split of 70/30 to split the data\n",
    "        - Afterwards, the data is imputed to fill in missing values using a simple average\n",
    "    - Setup your models - highlighting any important parameters\n",
    "        - This will be discussed in the summary section for each model.\n",
    "    - Analyze each model's performance - referencing your chosen evaluation metric (including supplemental visuals and analysis where appropriate)\n",
    "        - This will be discussed in the summary section after all models have been run."
   ]
  },
  {
   "cell_type": "markdown",
   "metadata": {},
   "source": [
    "### RandomForestClassifier"
   ]
  },
  {
   "cell_type": "code",
   "execution_count": 20,
   "metadata": {},
   "outputs": [],
   "source": [
    "from sklearn.ensemble import RandomForestClassifier\n",
    "from sklearn.model_selection import train_test_split\n",
    "\n",
    "X = full_df.loc[:, full_df.columns != 'class'].values\n",
    "y = full_df['class'].values\n",
    "\n",
    "X_train, X_test, y_train, y_test = train_test_split(\n",
    "    X, y, test_size=0.30, random_state=42)"
   ]
  },
  {
   "cell_type": "code",
   "execution_count": 21,
   "metadata": {},
   "outputs": [],
   "source": [
    "from sklearn.impute import SimpleImputer\n",
    "\n",
    "imp_mean = SimpleImputer(missing_values=np.nan, strategy='mean') # fill in missing values for X\n",
    "imp_mean.fit(X_train)\n",
    "\n",
    "X_train = imp_mean.transform(X_train)\n",
    "X_test = imp_mean.transform(X_test)"
   ]
  },
  {
   "cell_type": "code",
   "execution_count": 22,
   "metadata": {},
   "outputs": [
    {
     "data": {
      "text/plain": [
       "{'bootstrap': True,\n",
       " 'ccp_alpha': 0.0,\n",
       " 'class_weight': 'balanced_subsample',\n",
       " 'criterion': 'gini',\n",
       " 'max_depth': None,\n",
       " 'max_features': 'auto',\n",
       " 'max_leaf_nodes': None,\n",
       " 'max_samples': None,\n",
       " 'min_impurity_decrease': 0.0,\n",
       " 'min_impurity_split': None,\n",
       " 'min_samples_leaf': 1,\n",
       " 'min_samples_split': 2,\n",
       " 'min_weight_fraction_leaf': 0.0,\n",
       " 'n_estimators': 100,\n",
       " 'n_jobs': None,\n",
       " 'oob_score': False,\n",
       " 'random_state': 42,\n",
       " 'verbose': 0,\n",
       " 'warm_start': False}"
      ]
     },
     "execution_count": 22,
     "metadata": {},
     "output_type": "execute_result"
    }
   ],
   "source": [
    "rf_clf = RandomForestClassifier(class_weight = 'balanced_subsample', random_state=42)\n",
    "rf_clf.fit(X_train, y_train)\n",
    "\n",
    "rf_clf.get_params()"
   ]
  },
  {
   "cell_type": "code",
   "execution_count": 23,
   "metadata": {},
   "outputs": [],
   "source": [
    "#get the important features\n",
    "weights = rf_clf.feature_importances_\n",
    "feature_names = full_df.loc[:,full_df.columns !='class'].columns\n",
    "rfc_ft_imp_df = pd.DataFrame({'feature_names':feature_names, 'weights':weights, 'absolute_weights': np.abs(weights)})\n",
    "rfc_ft_imp_df.sort_values(by='absolute_weights', inplace=True, ascending=False )"
   ]
  },
  {
   "cell_type": "code",
   "execution_count": 24,
   "metadata": {
    "scrolled": false
   },
   "outputs": [
    {
     "data": {
      "image/png": "[encoded data removed]",
      "text/plain": [
       "<Figure size 1440x576 with 1 Axes>"
      ]
     },
     "metadata": {
      "needs_background": "light"
     },
     "output_type": "display_data"
    }
   ],
   "source": [
    "#Plot the model's feature importances\n",
    "import matplotlib.pyplot as plt\n",
    "%matplotlib inline\n",
    "fig, ax = plt.subplots(figsize = (10,10))\n",
    "plt.style.use('ggplot')\n",
    "wt_plt_df = rfc_ft_imp_df\n",
    "weights = pd.Series(wt_plt_df['weights'].values,index=wt_plt_df['feature_names'])\n",
    "ax = weights.plot(kind='bar', figsize=(20,8))\n",
    "ax.set_title(\"Feature importance for the best classification model\")\n",
    "ax.set_ylabel(\"Feature Importance\")\n",
    "ax.set_xlabel(\"Feature Names\")\n",
    "ax.set_facecolor('white')\n",
    "plt.show()"
   ]
  },
  {
   "cell_type": "code",
   "execution_count": 26,
   "metadata": {},
   "outputs": [
    {
     "data": {
      "text/plain": [
       "0.9999341737155646"
      ]
     },
     "execution_count": 26,
     "metadata": {},
     "output_type": "execute_result"
    }
   ],
   "source": [
    "rf_clf.score(X_train, y_train)"
   ]
  },
  {
   "cell_type": "code",
   "execution_count": 27,
   "metadata": {},
   "outputs": [
    {
     "data": {
      "text/plain": [
       "0.9999341737155646"
      ]
     },
     "execution_count": 27,
     "metadata": {},
     "output_type": "execute_result"
    }
   ],
   "source": [
    "from sklearn.metrics import accuracy_score\n",
    "from sklearn.metrics import confusion_matrix\n",
    "\n",
    "y_hat_rf_train = rf_clf.predict(X_train)\n",
    "accuracy_score(y_hat_rf_train, y_train)"
   ]
  },
  {
   "cell_type": "code",
   "execution_count": 28,
   "metadata": {},
   "outputs": [
    {
     "data": {
      "text/plain": [
       "array([[28939,     0],\n",
       "       [    2,  1442]], dtype=int64)"
      ]
     },
     "execution_count": 28,
     "metadata": {},
     "output_type": "execute_result"
    }
   ],
   "source": [
    "confusion_matrix(y_train, y_hat_rf_train)"
   ]
  },
  {
   "cell_type": "code",
   "execution_count": 29,
   "metadata": {},
   "outputs": [
    {
     "data": {
      "text/plain": [
       "0.9593764398709875"
      ]
     },
     "execution_count": 29,
     "metadata": {},
     "output_type": "execute_result"
    }
   ],
   "source": [
    "y_hat_rf_test = rf_clf.predict(X_test)\n",
    "accuracy_score(y_hat_rf_test, y_test)"
   ]
  },
  {
   "cell_type": "code",
   "execution_count": 30,
   "metadata": {},
   "outputs": [
    {
     "data": {
      "text/plain": [
       "array([[12322,    53],\n",
       "       [  476,   171]], dtype=int64)"
      ]
     },
     "execution_count": 30,
     "metadata": {},
     "output_type": "execute_result"
    }
   ],
   "source": [
    "confusion_matrix(y_test, y_hat_rf_test)"
   ]
  },
  {
   "cell_type": "code",
   "execution_count": 31,
   "metadata": {},
   "outputs": [],
   "source": [
    "from sklearn.metrics import precision_score, recall_score, f1_score, make_scorer\n",
    "#set the scoring parameters\n",
    "scorer = {'accuracy': make_scorer(accuracy_score),\n",
    "          'precision': make_scorer(precision_score, average='weighted',zero_division=0),\n",
    "          'recall': make_scorer(recall_score, average='weighted', zero_division=0),\n",
    "          'f1_score': make_scorer(f1_score, average='weighted', zero_division=0)\n",
    "          }\n"
   ]
  },
  {
   "cell_type": "code",
   "execution_count": 32,
   "metadata": {},
   "outputs": [
    {
     "name": "stdout",
     "output_type": "stream",
     "text": [
      "Wall time: 9.95 s\n"
     ]
    }
   ],
   "source": [
    "%%time\n",
    "from sklearn.model_selection import cross_validate\n",
    "#code for the Random Forest Model with Accuracy, Precision, Recall, F1, etc. training set\n",
    "scores_bl = cross_validate(rf_clf, X_train, y_train, scoring=scorer, cv=5, return_train_score=True, n_jobs=-1)\n",
    "acc_bl = round(scores_bl['test_accuracy'].mean()*100,2)\n",
    "prec_bl = round(scores_bl['test_precision'].mean()*100,2)\n",
    "rec_bl = round(scores_bl['test_recall'].mean()*100,2)\n",
    "f1_bl = round(scores_bl['test_f1_score'].mean()*100,2)\n"
   ]
  },
  {
   "cell_type": "code",
   "execution_count": 33,
   "metadata": {},
   "outputs": [
    {
     "name": "stdout",
     "output_type": "stream",
     "text": [
      "Random Forest Accuracy Baseline 96.04\n",
      "Random Forest Precision Baseline 95.4\n",
      "Random Forest Recall Baseline 96.04\n",
      "Random Forest f1 score Baseline 95.02\n"
     ]
    }
   ],
   "source": [
    "print(\"Random Forest Accuracy Baseline\", acc_bl)\n",
    "print(\"Random Forest Precision Baseline\", prec_bl)\n",
    "print(\"Random Forest Recall Baseline\", rec_bl)\n",
    "print(\"Random Forest f1 score Baseline\", f1_bl)"
   ]
  },
  {
   "cell_type": "code",
   "execution_count": 34,
   "metadata": {},
   "outputs": [
    {
     "name": "stdout",
     "output_type": "stream",
     "text": [
      "Random Forest Accuracy Baseline 95.94\n",
      "Random Forest Precision Baseline 95.57\n",
      "Random Forest Recall Baseline 95.94\n",
      "Wall time: 3.99 s\n"
     ]
    }
   ],
   "source": [
    "%%time\n",
    "from sklearn.model_selection import cross_validate\n",
    "#code for the Random Forest Model with Accuracy, Precision, Recall, etc. test set\n",
    "scores_bl = cross_validate(rf_clf, X_test, y_test, scoring=scorer, cv=5, return_train_score=True, n_jobs=-1)\n",
    "acc_bl = round(scores_bl['test_accuracy'].mean()*100,2)\n",
    "prec_bl = round(scores_bl['test_precision'].mean()*100,2)\n",
    "rec_bl = round(scores_bl['test_recall'].mean()*100,2)\n",
    "print(\"Random Forest Accuracy Baseline\", acc_bl)\n",
    "print(\"Random Forest Precision Baseline\", prec_bl)\n",
    "print(\"Random Forest Recall Baseline\", rec_bl)\n"
   ]
  },
  {
   "cell_type": "code",
   "execution_count": 35,
   "metadata": {},
   "outputs": [
    {
     "data": {
      "image/png": "[encoded data removed]",
      "text/plain": [
       "<Figure size 504x504 with 1 Axes>"
      ]
     },
     "metadata": {},
     "output_type": "display_data"
    }
   ],
   "source": [
    "from sklearn.metrics import average_precision_score\n",
    "\n",
    "from sklearn.metrics import precision_recall_curve\n",
    "from sklearn.metrics import plot_precision_recall_curve\n",
    "import matplotlib.pyplot as plt\n",
    "\n",
    "fig, ax = plt.subplots(figsize=(7,7))\n",
    "disp = plot_precision_recall_curve(rf_clf, X_test, y_test, ax=ax)\n",
    "disp.ax_.set_title('Precision-Recall Curve')\n",
    "disp.ax_.set_facecolor('white')\n",
    "plt.show()"
   ]
  },
  {
   "cell_type": "markdown",
   "metadata": {},
   "source": [
    "#### RandomForest Classifier Summary\n",
    "This is just an \"out-of-the-box\" RandomForest model with a balanced subsample (used to somewhat offset the unbalenced classes). This basic model had an accuracy of 95.94 and a precision and recall of 95.57 and 95.94 respectively."
   ]
  },
  {
   "cell_type": "markdown",
   "metadata": {},
   "source": [
    "---\n",
    "### HyperTunning Random Forest\n",
    "---"
   ]
  },
  {
   "cell_type": "code",
   "execution_count": 36,
   "metadata": {},
   "outputs": [],
   "source": [
    "from sklearn.model_selection import GridSearchCV\n",
    "from sklearn.metrics import classification_report"
   ]
  },
  {
   "cell_type": "code",
   "execution_count": 37,
   "metadata": {},
   "outputs": [],
   "source": [
    "# set the tunining parameters for the random forest classifier GridSearchCV\n",
    "tuned_parameters={'n_estimators':[10,50,100,300],\n",
    "                  'criterion':['gini','entropy'], \n",
    "                  'max_depth':[5,10,20],\n",
    "                  'min_samples_split':[2,4,9]} "
   ]
  },
  {
   "cell_type": "code",
   "execution_count": 38,
   "metadata": {},
   "outputs": [],
   "source": [
    "X_train, X_test, y_train, y_test = train_test_split(\n",
    "    X, y, test_size=0.33, random_state=42)\n",
    "imp_mean = SimpleImputer(missing_values=np.nan, strategy='mean')\n",
    "imp_mean.fit(X_train)\n",
    "\n",
    "X_train = imp_mean.transform(X_train)\n",
    "X_test = imp_mean.transform(X_test)"
   ]
  },
  {
   "cell_type": "code",
   "execution_count": 39,
   "metadata": {},
   "outputs": [
    {
     "name": "stdout",
     "output_type": "stream",
     "text": [
      "Wall time: 6min 22s\n"
     ]
    },
    {
     "data": {
      "text/plain": [
       "GridSearchCV(cv=5,\n",
       "             estimator=RandomForestClassifier(class_weight='balanced_subsample'),\n",
       "             n_jobs=-1,\n",
       "             param_grid={'criterion': ['gini', 'entropy'],\n",
       "                         'max_depth': [5, 10, 20],\n",
       "                         'min_samples_split': [2, 4, 9],\n",
       "                         'n_estimators': [10, 50, 100, 300]},\n",
       "             refit='accuracy',\n",
       "             scoring={'accuracy': make_scorer(accuracy_score),\n",
       "                      'f1_score': make_scorer(f1_score, average=weighted, zero_division=0),\n",
       "                      'precision': make_scorer(precision_score, average=weighted, zero_division=0),\n",
       "                      'recall': make_scorer(recall_score, average=weighted, zero_division=0)})"
      ]
     },
     "execution_count": 39,
     "metadata": {},
     "output_type": "execute_result"
    }
   ],
   "source": [
    "%%time\n",
    "import warnings\n",
    "warnings.filterwarnings('ignore')\n",
    "\n",
    "clf = GridSearchCV(RandomForestClassifier(class_weight = 'balanced_subsample'), \n",
    "                   tuned_parameters, cv=5, scoring=scorer, n_jobs=-1, refit='accuracy')\n",
    "clf.fit(X_train, y_train)"
   ]
  },
  {
   "cell_type": "code",
   "execution_count": 40,
   "metadata": {
    "scrolled": true
   },
   "outputs": [
    {
     "name": "stdout",
     "output_type": "stream",
     "text": [
      "Best parameters set found on development set tuning for the best accuracy score:\n",
      "\n",
      "{'criterion': 'entropy', 'max_depth': 20, 'min_samples_split': 4, 'n_estimators': 100}\n",
      "\n",
      "Grid scores on development set:\n",
      "Detailed classification report:\n",
      "\n",
      "The model is trained on the full development set.\n",
      "Mean Accuracy: 0.900 (+/-0.005)\n",
      "Mean Precission: 0.947 (+/-0.002)\n",
      "Mean Recall: 0.900 (+/-0.005)\n",
      "The scores are computed on the full evaluation set.\n",
      "\n"
     ]
    }
   ],
   "source": [
    "print(\"Best parameters set found on development set tuning for the best accuracy score:\")\n",
    "print()\n",
    "print(clf.best_params_)\n",
    "print()\n",
    "print(\"Grid scores on development set:\")\n",
    "#print()\n",
    "mean_acc = np.mean(clf.cv_results_['mean_test_accuracy'])\n",
    "mean_prec = np.mean(clf.cv_results_['mean_test_precision'])\n",
    "mean_rec = np.mean(clf.cv_results_['mean_test_recall'])\n",
    "print(\"Detailed classification report:\")\n",
    "print()\n",
    "print(\"The model is trained on the full development set.\")\n",
    "print('Mean Accuracy: %0.3f (+/-%0.3f)' % (mean_acc, np.mean(clf.cv_results_['std_test_accuracy'])))\n",
    "print('Mean Precission: %0.3f (+/-%0.3f)' % (mean_prec, np.mean(clf.cv_results_['std_test_precision'])))\n",
    "print('Mean Recall: %0.3f (+/-%0.3f)' % (mean_rec, np.mean(clf.cv_results_['std_test_recall'])))\n",
    "print(\"The scores are computed on the full evaluation set.\")\n",
    "print()\n",
    "\n"
   ]
  },
  {
   "cell_type": "code",
   "execution_count": 41,
   "metadata": {},
   "outputs": [
    {
     "name": "stdout",
     "output_type": "stream",
     "text": [
      "\n",
      "               No Bankruptcy  Bankruptcy\n",
      "No Bankruptcy          13533          70\n",
      "Bankruptcy               512         209\n",
      "\n",
      "Classification Report:\n",
      "              precision    recall  f1-score   support\n",
      "\n",
      "           0       0.96      0.99      0.98     13603\n",
      "           1       0.75      0.29      0.42       721\n",
      "\n",
      "    accuracy                           0.96     14324\n",
      "   macro avg       0.86      0.64      0.70     14324\n",
      "weighted avg       0.95      0.96      0.95     14324\n",
      "\n"
     ]
    }
   ],
   "source": [
    "# predict using best RF classifer from GridSearchCV\n",
    "rf_pred = clf.predict(X_test)\n",
    "\n",
    "# print out results accuracy, prec, recall, f1 scores\n",
    "print()\n",
    "print(pd.DataFrame(confusion_matrix(y_test.astype('int'), rf_pred.astype('int'), labels=[0,1]),\n",
    "            columns=['No Bankruptcy', 'Bankruptcy'],\n",
    "            index=['No Bankruptcy', 'Bankruptcy']))\n",
    "print('\\nClassification Report:')\n",
    "print(classification_report(y_test.astype('int'), rf_pred.astype('int')))"
   ]
  },
  {
   "cell_type": "code",
   "execution_count": 42,
   "metadata": {},
   "outputs": [
    {
     "data": {
      "image/png": "[encoded data removed]",
      "text/plain": [
       "<Figure size 504x504 with 1 Axes>"
      ]
     },
     "metadata": {},
     "output_type": "display_data"
    }
   ],
   "source": [
    "# generate prec-recall curve again\n",
    "fig, ax = plt.subplots(figsize=(7,7))\n",
    "disp = plot_precision_recall_curve(clf, X_test, y_test, ax=ax)\n",
    "disp.ax_.set_title('Precision-Recall Curve')\n",
    "disp.ax_.set_facecolor('white')\n",
    "plt.show()"
   ]
  },
  {
   "cell_type": "code",
   "execution_count": 43,
   "metadata": {},
   "outputs": [],
   "source": [
    "# predict probabilites of classifying (0,1) and use a threshold to increase recall\n",
    "def tune_rf(X_test, threshold):\n",
    "    threshold = threshold\n",
    "    rf_scores = clf.predict_proba(X_test)\n",
    "    predicted = (rf_scores[:,1] >= threshold).astype('int')\n",
    "\n",
    "    # print out results accuracy, prec, recall, f1 scores\n",
    "    print()\n",
    "    print(pd.DataFrame(confusion_matrix(y_test.astype('int'), predicted, labels=[0,1]),\n",
    "                       columns=['No Bankruptcy', 'Bankruptcy'],\n",
    "                       index=['No Bankruptcy', 'Bankruptcy']))\n",
    "    print('\\nClassification Report:')\n",
    "    print(classification_report(y_test.astype('int'), predicted))\n"
   ]
  },
  {
   "cell_type": "code",
   "execution_count": 44,
   "metadata": {},
   "outputs": [
    {
     "name": "stdout",
     "output_type": "stream",
     "text": [
      "\n",
      "               No Bankruptcy  Bankruptcy\n",
      "No Bankruptcy          13393         210\n",
      "Bankruptcy               428         293\n",
      "\n",
      "Classification Report:\n",
      "              precision    recall  f1-score   support\n",
      "\n",
      "           0       0.97      0.98      0.98     13603\n",
      "           1       0.58      0.41      0.48       721\n",
      "\n",
      "    accuracy                           0.96     14324\n",
      "   macro avg       0.78      0.70      0.73     14324\n",
      "weighted avg       0.95      0.96      0.95     14324\n",
      "\n"
     ]
    }
   ],
   "source": [
    "tune_rf(X_test,0.34)"
   ]
  },
  {
   "cell_type": "markdown",
   "metadata": {},
   "source": [
    "#### RandomForestClassifier Model Tuning\n",
    "Our second model was tuned using GridSearchCV with 5-folds and refit based on the accuracy score. The grid search examined four parameters including the criterion, max depth, minimum samples to split on and the number of estimators. The set of parameter that returned the best accuracy were: {'criterion': 'entropy', 'max_depth': 20, 'min_samples_split': 4, 'n_estimators': 100}. The model was further tuned using predicted probabilites and a threshold to manually increase the recall score without decreaing the accuracy score. The default threshold for RandomForest is 0.5 and the threshold is 0.34. By manually adjusting this, we improved the recall score from 28% to 42% while maintaining an accuracy score of 96%.\n",
    "\n",
    "The final RandomForest model with tuned parameters returned an accuracy of .96, with a precision and recall of .95 and .96 respectively. This is a slight improvement on our untuned model. "
   ]
  },
  {
   "cell_type": "markdown",
   "metadata": {},
   "source": [
    "---\n",
    "### XGBoost\n",
    "---"
   ]
  },
  {
   "cell_type": "code",
   "execution_count": 45,
   "metadata": {},
   "outputs": [
    {
     "name": "stdout",
     "output_type": "stream",
     "text": [
      "[09:12:46] WARNING: C:/Users/Administrator/workspace/xgboost-win64_release_1.4.0/src/learner.cc:1095: Starting in XGBoost 1.3.0, the default evaluation metric used with the objective 'binary:logistic' was changed from 'error' to 'logloss'. Explicitly set eval_metric if you'd like to restore the old behavior.\n",
      "\n",
      "\n",
      " XGBClassifier(base_score=0.5, booster='gbtree', colsample_bylevel=1,\n",
      "              colsample_bynode=1, colsample_bytree=1, gamma=0, gpu_id=-1,\n",
      "              importance_type='gain', interaction_constraints='',\n",
      "              learning_rate=0.300000012, max_delta_step=0, max_depth=6,\n",
      "              min_child_weight=1, missing=nan, monotone_constraints='()',\n",
      "              n_estimators=100, n_jobs=12, num_parallel_tree=1, random_state=42,\n",
      "              reg_alpha=0, reg_lambda=1, scale_pos_weight=1, subsample=1,\n",
      "              tree_method='exact', validate_parameters=1, verbosity=1) \n",
      "\n",
      "\n",
      "Base Accuracy: 96.58%\n",
      "Base Precision: 81.99%\n",
      "Base Recall: 41.05%\n",
      "\n",
      "Confusion Matrix:\n",
      "               No Bankruptcy  Bankruptcy\n",
      "No Bankruptcy          13538          65\n",
      "Bankruptcy               425         296\n",
      "\n",
      "Classification Report:\n",
      "              precision    recall  f1-score   support\n",
      "\n",
      "           0       0.97      1.00      0.98     13603\n",
      "           1       0.82      0.41      0.55       721\n",
      "\n",
      "    accuracy                           0.97     14324\n",
      "   macro avg       0.89      0.70      0.76     14324\n",
      "weighted avg       0.96      0.97      0.96     14324\n",
      "\n"
     ]
    }
   ],
   "source": [
    "from sklearn.impute import SimpleImputer\n",
    "from sklearn.metrics import accuracy_score, precision_score, recall_score, make_scorer, confusion_matrix, classification_report\n",
    "from sklearn.model_selection import train_test_split\n",
    "import xgboost as xgb\n",
    "from xgboost import XGBClassifier\n",
    "\n",
    "'''\n",
    "Documentation\n",
    "https://xgboost.readthedocs.io/en/latest/python/python_api.html\n",
    "https://xgboost.readthedocs.io/en/latest/python/python_api.html#module-xgboost.sklearn\n",
    "additional instruction from async videos 8.5\n",
    "'''\n",
    "\n",
    "\n",
    "X = full_df.loc[:, full_df.columns != 'class'].values\n",
    "y = full_df['class'].values\n",
    "\n",
    "X_train, X_test, y_train, y_test = train_test_split(\n",
    "    X, y, test_size=0.33, random_state=42)\n",
    "\n",
    "\n",
    "\n",
    "imp_mean = SimpleImputer(missing_values=np.nan, strategy='mean') # fill in missing values for X\n",
    "imp_mean.fit(X_train)\n",
    "\n",
    "X_train = imp_mean.transform(X_train)\n",
    "X_test = imp_mean.transform(X_test)\n",
    "\n",
    "# convert data into xgb format - this isn't needed with the sklearn wrapper\n",
    "#dtrain = xgb.DMatrix(X_train, label=y_train) #training data\n",
    "#dtest = xgb.DMatrix(X_test, label=y_test)  # test/ validation data\n",
    "\n",
    "# run base model XGBoost\n",
    "\n",
    "# initiate the model using the sklearn wrapper API\n",
    "model = XGBClassifier(random_state=42, verbosity=1)\n",
    "model.fit(X_train, y_train, verbose=True)\n",
    "print('\\n\\n',model,'\\n\\n')\n",
    "\n",
    "y_pred = model.predict(X_test)\n",
    "\n",
    "accuracy = accuracy_score(y_test.astype('int'), y_pred.astype('int'))\n",
    "precision = precision_score(y_test.astype('int'), y_pred.astype('int'))\n",
    "recall = recall_score(y_test.astype('int'), y_pred.astype('int'))\n",
    "print('Base Accuracy: %.2f%%' % (accuracy * 100.0))\n",
    "print('Base Precision: %.2f%%' % (precision * 100.0))\n",
    "print('Base Recall: %.2f%%' % (recall * 100.0))\n",
    "print('\\nConfusion Matrix:')\n",
    "print(pd.DataFrame(confusion_matrix(y_test.astype('int'), y_pred.astype('int'), labels=[0,1]),\n",
    "            columns=['No Bankruptcy', 'Bankruptcy'],\n",
    "            index=['No Bankruptcy', 'Bankruptcy']))\n",
    "print('\\nClassification Report:')\n",
    "print(classification_report(y_test.astype('int'), y_pred.astype('int')))"
   ]
  },
  {
   "cell_type": "markdown",
   "metadata": {},
   "source": [
    "#### XGBoost Model Tuning\n",
    "Our third model was an \"out-of-the-box\" XGBoost model the The model was further tuned using predicted probabilites and a threshold to manually increase the recall score without decreaing the accuracy score. The accuracy of the model was .96, with a precision and recall of .97 and .96 respectively, therefor the base XGBoost performed slightly better than the tuned RandomForest model. "
   ]
  },
  {
   "cell_type": "markdown",
   "metadata": {},
   "source": [
    "---\n",
    "### GridSearch Hypertuning for XGBoost\n",
    "---"
   ]
  },
  {
   "cell_type": "code",
   "execution_count": 46,
   "metadata": {},
   "outputs": [],
   "source": [
    "from sklearn.model_selection import RandomizedSearchCV"
   ]
  },
  {
   "cell_type": "code",
   "execution_count": 47,
   "metadata": {},
   "outputs": [
    {
     "name": "stdout",
     "output_type": "stream",
     "text": [
      "Fitting 5 folds for each of 10 candidates, totalling 50 fits\n",
      "[09:14:34] WARNING: C:/Users/Administrator/workspace/xgboost-win64_release_1.4.0/src/learner.cc:1095: Starting in XGBoost 1.3.0, the default evaluation metric used with the objective 'binary:logistic' was changed from 'error' to 'logloss'. Explicitly set eval_metric if you'd like to restore the old behavior.\n",
      "Wall time: 1min 47s\n"
     ]
    },
    {
     "data": {
      "text/plain": [
       "RandomizedSearchCV(cv=5,\n",
       "                   estimator=XGBClassifier(base_score=None, booster='gbtree',\n",
       "                                           colsample_bylevel=None,\n",
       "                                           colsample_bynode=None,\n",
       "                                           colsample_bytree=None, gamma=None,\n",
       "                                           gpu_id=None, importance_type='gain',\n",
       "                                           interaction_constraints=None,\n",
       "                                           learning_rate=None,\n",
       "                                           max_delta_step=None, max_depth=None,\n",
       "                                           min_child_weight=None, missing=nan,\n",
       "                                           monotone_constraints=None,\n",
       "                                           n_estimators=...\n",
       "                   param_distributions={'learning_rate': [0.01, 0.001, 0.1, 0.3,\n",
       "                                                          0.5],\n",
       "                                        'max_depth': [2, 3, 4, 5, 6, 7, 8, 9,\n",
       "                                                      10, 11],\n",
       "                                        'n_estimators': [10, 100, 500]},\n",
       "                   random_state=42, refit='accuracy', return_train_score=True,\n",
       "                   scoring={'accuracy': make_scorer(accuracy_score),\n",
       "                            'precision': make_scorer(precision_score, average=weighted, zero_division=0),\n",
       "                            'recall': make_scorer(recall_score, average=weighted, zero_division=0)},\n",
       "                   verbose=1)"
      ]
     },
     "execution_count": 47,
     "metadata": {},
     "output_type": "execute_result"
    }
   ],
   "source": [
    "%%time\n",
    "\n",
    "# definte the classifier\n",
    "xgb_class = XGBClassifier(booster = 'gbtree', random_state=42, verbosity=1)\n",
    "#set the scoring parameters\n",
    "scorer = {'accuracy': make_scorer(accuracy_score),\n",
    "          'precision': make_scorer(precision_score, average='weighted',zero_division=0),\n",
    "          'recall': make_scorer(recall_score, average='weighted', zero_division=0)\n",
    "         }\n",
    "\n",
    "# tuning distribution for RandomSearchCV for XGBoost\n",
    "params = {\n",
    "    'n_estimators': [10, 100, 500],\n",
    "    'max_depth': [x for x in range(2,12)],  # depth of the tree\n",
    "    'learning_rate': [0.01, 0.001, 0.1, 0.3, 0.5]\n",
    "}\n",
    "\n",
    "# Create RandomizedSearchCV\n",
    "random = RandomizedSearchCV(xgb_class, params, scoring=scorer, n_jobs=-1, refit='accuracy', \n",
    "                            cv=5, verbose=1, random_state=42, return_train_score=True)\n",
    "\n",
    "random.fit(X_train, y_train)"
   ]
  },
  {
   "cell_type": "code",
   "execution_count": 48,
   "metadata": {},
   "outputs": [
    {
     "data": {
      "text/plain": [
       "XGBClassifier(base_score=None, booster='gbtree', colsample_bylevel=None,\n",
       "              colsample_bynode=None, colsample_bytree=None, gamma=None,\n",
       "              gpu_id=None, importance_type='gain', interaction_constraints=None,\n",
       "              learning_rate=None, max_delta_step=None, max_depth=None,\n",
       "              min_child_weight=None, missing=nan, monotone_constraints=None,\n",
       "              n_estimators=100, n_jobs=None, num_parallel_tree=None,\n",
       "              random_state=42, reg_alpha=None, reg_lambda=None,\n",
       "              scale_pos_weight=None, subsample=None, tree_method=None,\n",
       "              validate_parameters=None, verbosity=1)"
      ]
     },
     "execution_count": 48,
     "metadata": {},
     "output_type": "execute_result"
    }
   ],
   "source": [
    "xgb_class"
   ]
  },
  {
   "cell_type": "code",
   "execution_count": 49,
   "metadata": {},
   "outputs": [
    {
     "name": "stdout",
     "output_type": "stream",
     "text": [
      "Detailed classification report for RandomSearchCV using XGBoost:\n",
      "\n",
      "The model is trained on the full development set.\n",
      "Best Estimator:  XGBClassifier(base_score=0.5, booster='gbtree', colsample_bylevel=1,\n",
      "              colsample_bynode=1, colsample_bytree=1, gamma=0, gpu_id=-1,\n",
      "              importance_type='gain', interaction_constraints='',\n",
      "              learning_rate=0.1, max_delta_step=0, max_depth=6,\n",
      "              min_child_weight=1, missing=nan, monotone_constraints='()',\n",
      "              n_estimators=100, n_jobs=12, num_parallel_tree=1, random_state=42,\n",
      "              reg_alpha=0, reg_lambda=1, scale_pos_weight=1, subsample=1,\n",
      "              tree_method='exact', validate_parameters=1, verbosity=1) \n",
      "\n",
      "Best Accuracy: 96.671% (+/-0.11%)\n",
      "Best Parameters:  {'n_estimators': 100, 'max_depth': 6, 'learning_rate': 0.1} \n",
      "\n",
      "Best Test by Precision: Test 7 with Precision: 96.59%\n",
      "Best Parameters by Precision: {'n_estimators': 100, 'max_depth': 3, 'learning_rate': 0.1}\n",
      "\n",
      "\n",
      "Best Test by Recall: Test 1 with Recall: 96.67%\n",
      "Best Parameters by Recall: {'n_estimators': 100, 'max_depth': 6, 'learning_rate': 0.1}\n"
     ]
    }
   ],
   "source": [
    "print(\"Detailed classification report for RandomSearchCV using XGBoost:\")\n",
    "print()\n",
    "print(\"The model is trained on the full development set.\")\n",
    "print('Best Estimator: ', random.best_estimator_,'\\n')\n",
    "\n",
    "# capture best results indices\n",
    "best_acc_test = np.argmax(random.cv_results_['mean_test_accuracy'])\n",
    "best_prec_test = np.argmax(random.cv_results_['mean_test_precision'])\n",
    "best_recall_test = np.argmax(random.cv_results_['mean_test_recall'])\n",
    "\n",
    "\n",
    "print('Best Accuracy: %0.3f%% (+/-%0.2f%%)' % \n",
    "      (random.best_score_*100,\n",
    "       random.cv_results_['std_test_accuracy'][best_acc_test]*100))\n",
    "print('Best Parameters: ', random.best_params_,'\\n')\n",
    "\n",
    "\n",
    "# Best Precision Score/ Params\n",
    "print('Best Test by Precision: Test %d with Precision: %0.2f%%' % \n",
    "      (best_prec_test+1,\n",
    "       random.cv_results_['mean_test_precision'][best_prec_test]*100))\n",
    "print('Best Parameters by Precision: {\\'n_estimators\\': %d, \\'max_depth\\': %d, \\'learning_rate\\': %0.1f}' %\n",
    "      (random.cv_results_['param_n_estimators'][best_prec_test],\n",
    "       random.cv_results_['param_max_depth'][best_prec_test],\n",
    "       random.cv_results_['param_learning_rate'][best_prec_test])\n",
    "     )\n",
    "print('\\n')\n",
    "\n",
    "# Best Recall Score/ Params\n",
    "print('Best Test by Recall: Test %d with Recall: %0.2f%%' % \n",
    "      (best_recall_test+1,\n",
    "       random.cv_results_['mean_test_recall'][best_recall_test]*100))\n",
    "\n",
    "print('Best Parameters by Recall: {\\'n_estimators\\': %d, \\'max_depth\\': %d, \\'learning_rate\\': %0.1f}' %\n",
    "      (random.cv_results_['param_n_estimators'][best_recall_test],\n",
    "       random.cv_results_['param_max_depth'][best_recall_test],\n",
    "       random.cv_results_['param_learning_rate'][best_recall_test])\n",
    "     )"
   ]
  },
  {
   "cell_type": "markdown",
   "metadata": {},
   "source": [
    "##### Predict Using best_params_"
   ]
  },
  {
   "cell_type": "code",
   "execution_count": 50,
   "metadata": {},
   "outputs": [
    {
     "name": "stdout",
     "output_type": "stream",
     "text": [
      "Detailed scoring for the Best results from RandomSearchCV using XGBoost:\n",
      "\n",
      "The model is trained on the full development set.\n",
      "Accuracy: 0.966\n",
      "Precission: 0.951\n",
      "Recall: 0.351\n",
      "The scores are computed on the full evaluation set.\n",
      "\n",
      "Confusion Matrix:\n",
      "               No Bankruptcy  Bankruptcy\n",
      "No Bankruptcy          13590          13\n",
      "Bankruptcy               468         253\n",
      "\n",
      "Classification Report:\n",
      "              precision    recall  f1-score   support\n",
      "\n",
      "           0       0.97      1.00      0.98     13603\n",
      "           1       0.95      0.35      0.51       721\n",
      "\n",
      "    accuracy                           0.97     14324\n",
      "   macro avg       0.96      0.67      0.75     14324\n",
      "weighted avg       0.97      0.97      0.96     14324\n",
      "\n"
     ]
    }
   ],
   "source": [
    "# predict with the best parameters from the random search cv\n",
    "xg_pred = random.predict(X_test)\n",
    "xg_acc = accuracy_score(y_test.astype('int'), xg_pred.astype('int'))\n",
    "xg_precision = precision_score(y_test.astype('int'), xg_pred.astype('int'))\n",
    "xg_recall = recall_score(y_test.astype('int'), xg_pred.astype('int'))\n",
    "\n",
    "print(\"Detailed scoring for the Best results from RandomSearchCV using XGBoost:\")\n",
    "print()\n",
    "print(\"The model is trained on the full development set.\")\n",
    "print('Accuracy: %0.3f' % xg_acc)\n",
    "print('Precission: %0.3f' % xg_precision)\n",
    "print('Recall: %0.3f' % xg_recall)\n",
    "\n",
    "print(\"The scores are computed on the full evaluation set.\")\n",
    "print()\n",
    "print('Confusion Matrix:')\n",
    "print(pd.DataFrame(confusion_matrix(y_test.astype('int'), xg_pred.astype('int'), labels=[0,1]),\n",
    "      columns=['No Bankruptcy', 'Bankruptcy'],\n",
    "      index=['No Bankruptcy', 'Bankruptcy']))\n",
    "print('\\nClassification Report:')\n",
    "print(classification_report(y_test.astype('int'), xg_pred.astype('int')))"
   ]
  },
  {
   "cell_type": "markdown",
   "metadata": {},
   "source": [
    "### Further Model Tuning \n",
    "- Use scale_pos_weight to adjust for a better recall score while not drastically lowering the accuracy score"
   ]
  },
  {
   "cell_type": "code",
   "execution_count": 51,
   "metadata": {},
   "outputs": [
    {
     "name": "stdout",
     "output_type": "stream",
     "text": [
      "\n",
      "Confusion Matrix:\n",
      "               No Bankruptcy  Bankruptcy\n",
      "No Bankruptcy          13367         236\n",
      "Bankruptcy               361         360\n",
      "\n",
      "Best Accuracy Score: 96.671%\n",
      "\n",
      "Classification Report:\n",
      "              precision    recall  f1-score   support\n",
      "\n",
      "           0       0.97      0.98      0.98     13603\n",
      "           1       0.60      0.50      0.55       721\n",
      "\n",
      "    accuracy                           0.96     14324\n",
      "   macro avg       0.79      0.74      0.76     14324\n",
      "weighted avg       0.96      0.96      0.96     14324\n",
      "\n"
     ]
    }
   ],
   "source": [
    "params = {'learning_rate': 0.1,\n",
    "          'n_estimators': 100, \n",
    "          'max_depth': 6, \n",
    "          'scale_pos_weight': 5,\n",
    "          'random_state': 42\n",
    "}\n",
    "eval_set = [(X_train, y_train),(X_test, y_test)]\n",
    "\n",
    "tune_model = XGBClassifier(**params, verbosity = 0)\n",
    "tune_model.fit(X_train, y_train)\n",
    "#print('\\n\\n',tune_model,'\\n\\n')\n",
    "\n",
    "\n",
    "tune_pred = tune_model.predict(X_test)\n",
    "\n",
    "print('\\nConfusion Matrix:')\n",
    "print(pd.DataFrame(confusion_matrix(y_test.astype('int'), tune_pred.astype('int'), labels=[0,1]),\n",
    "            columns=['No Bankruptcy', 'Bankruptcy'],\n",
    "            index=['No Bankruptcy', 'Bankruptcy']))\n",
    "print('\\nBest Accuracy Score: %0.3f%%' % (random.best_score_*100))\n",
    "print('\\nClassification Report:')\n",
    "print(classification_report(y_test.astype('int'), tune_pred.astype('int')))"
   ]
  },
  {
   "cell_type": "markdown",
   "metadata": {},
   "source": [
    "#### Comments on XGBoost Model Tuning\n",
    "Our forth model was an XGBoost model tuned with the following parameters: n_estimators, max_depth, # depth of the tree, and learning rate using a RandomSearchCV with 5-folds. For maximum accuracy, {'n_estimators': 100, 'max_depth': 6, 'learning_rate': 0.1} were the parameters used. The model was further tuned using the scale_pos_weight parameter within xgboost to account for the imbalance in the target data. The model was manually fit starting with a weight of 2 and incremented by 1 until there was no more gain in recall without a loss in accuracy."
   ]
  },
  {
   "cell_type": "markdown",
   "metadata": {},
   "source": [
    "## <font color='blue'>Model Interpretbility & Explainability</font>\n",
    "\n",
    "<b>Using at least one of your models above (if multiple were trained), which variable(s) was (were) \"most important\" and why?  How did you come to the conclusion and how should your audience interpret this?</b>  \n",
    "We will focus on feature importance for our most balanced model - the double tuned XGBoost model. \n",
    "    - (1) The most important feature is Attr34 = operating expenses / total liabilities, which makes sense because if your liabilities are less than your expenses, you essentially do not have enough money to pay your bills and that puts you on the road to bankruptcy.   \n",
    "    - (2) The next most important feature is Attr27 = profit on operating activities / financial expenses, showing that if a company is not profitable, it has a high propensity to default on it's financial obligations.   \n",
    "    - (3) Attr5 = [(cash + short-term securities + receivables - short-term liabilities) / (operating expenses - depreciation)] * 365. While this is more complex formula, it again provides a measure of how much money the company has to pay it's bills\n"
   ]
  },
  {
   "cell_type": "code",
   "execution_count": 52,
   "metadata": {},
   "outputs": [
    {
     "data": {
      "image/png": "[encoded data removed]",
      "text/plain": [
       "<Figure size 720x720 with 1 Axes>"
      ]
     },
     "metadata": {},
     "output_type": "display_data"
    }
   ],
   "source": [
    "# plot important features\n",
    "fig, ax = plt.subplots(figsize=(10,10))\n",
    "# map reduced feature names to f#'s in plot\n",
    "imp_feat = xgb.plot_importance(tune_model, ax=ax, grid=False, height=0.5, color='teal')\n",
    "indices = [int(imp_feat.get_yticklabels()[i].get_text().lstrip('f')) for i in range(len(imp_feat.get_yticklabels()))]\n",
    "mapped_features = [features[i] for i in indices]\n",
    "\n",
    "\n",
    "ax = xgb.plot_importance(tune_model, ax=ax, grid=False, height=0.5, color='teal')\n",
    "ax.set_yticklabels(mapped_features)\n",
    "\n",
    "plt.show()"
   ]
  },
  {
   "cell_type": "markdown",
   "metadata": {},
   "source": [
    "\n",
    "## <font color='blue'>Case Conclusions</font>\n",
    "- After all of your technical analysis and modeling; what are you proposing to your audience and why?  \n",
    "    - Decision makers for the company can take the general model that we created based on accuracy score, and use that to fit their needs. There will be a small percent of predictions where the company was predicted to go bankrupt but didn't, or was predicted to not go bankrupt but did. However, decision makers should at least be confident that the features being used for these predictions are genuinely the ones that have the most impact on which category a company will fall into. \n",
    "- How should they view your results and what should they consider when moving forward?  \n",
    "    - They should consider the top 3 features of importance and perhaps look into those attribute categories further to determine if there's a reason for those specifice measures to be more impactful than attributes that measure similar things. \n",
    "    - Since there were originally 64 attributes of concern, narrowing the features of importance down to just 3-7 is highly interpretable and easy to incorporate into regular business practices. \n",
    "- Are there other approaches you'd recommend exploring?  \n",
    "    - It might be beneficial to take the results of the study and continue to tune it to focus on correctly classifying 99.9%+ of companies that will go bankrupt. To do this would create a number of false positives, where it is predicted that the company will go bankrupt but it doesn't. However, this way of modeling would allow for decision makers to understand riskier investments/loans and keep a closer eye on those companies. \n",
    "- This is where you \"bring it all home\" in language they understand.\n",
    "    - These models are highly interpretable and can be further customized to meet business needs. While no model is perfect, with decision trees we can build a variety of models that improve understanding of the existing problem and provide strong predictive power for the future.\n",
    "\n",
    "\n"
   ]
  }
 ],
 "metadata": {
  "kernelspec": {
   "display_name": "Python 3 (ipykernel)",
   "language": "python",
   "name": "python3"
  },
  "language_info": {
   "codemirror_mode": {
    "name": "ipython",
    "version": 3
   },
   "file_extension": ".py",
   "mimetype": "text/x-python",
   "name": "python",
   "nbconvert_exporter": "python",
   "pygments_lexer": "ipython3",
   "version": "3.8.12"
  }
 },
 "nbformat": 4,
 "nbformat_minor": 4
}
